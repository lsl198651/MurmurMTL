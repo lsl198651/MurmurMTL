{
 "cells": [
  {
   "cell_type": "code",
   "execution_count": null,
   "metadata": {
    "collapsed": false
   },
   "outputs": [],
   "source": [
    "%matplotlib inline"
   ]
  },
  {
   "cell_type": "markdown",
   "metadata": {},
   "source": [
    "\n# Single Markov transition field\n\nA Markov transition field is an image obtained from a time series, representing\na field of transition probabilities for a discretized time series.\nDifferent strategies can be used to bin time series.\nIt is implemented as :class:`pyts.image.MarkovTransitionField`.\n\nIn this example, the considered time series is the sequence of the sine\nfunction values for 1000 equally-spaced points in the interval\n$[0, 4\\pi]$.\nOne can see on the Markov transition field that the sine function is periodic\nwith period $2\\pi$ and smooth (only neighbor bins have a positive\ntransition probability).\n\nSince the API is designed for machine learning, the\n:meth:`~pyts.image.MarkovTransitionField.transform` method of the\n:class:`pyts.image.MarkovTransitionField` class expects a data set of time\nseries as input, so the time series is transformed into a data set with a\nsingle time series (``X = np.array([x])``) and the first element of the data\nset of Gramian angular fields is retrieved (``ax_mtf.imshow(X_mtf[0], ...``).\n"
   ]
  },
  {
   "cell_type": "code",
   "execution_count": null,
   "metadata": {
    "collapsed": false
   },
   "outputs": [],
   "source": [
    "# Author: Johann Faouzi <johann.faouzi@gmail.com>\n",
    "# License: BSD-3-Clause\n",
    "\n",
    "import matplotlib.pyplot as plt\n",
    "import numpy as np\n",
    "from pyts.image import MarkovTransitionField\n",
    "\n",
    "# Create a toy time series using the sine function\n",
    "time_points = np.linspace(0, 4 * np.pi, 1000)\n",
    "x = np.sin(time_points)\n",
    "X = np.array([x])\n",
    "\n",
    "# Compute Gramian angular fields\n",
    "mtf = MarkovTransitionField(n_bins=8)\n",
    "X_mtf = mtf.fit_transform(X)\n",
    "\n",
    "# Plot the time series and its Markov transition field\n",
    "width_ratios = (2, 7, 0.4)\n",
    "height_ratios = (2, 7)\n",
    "width = 6\n",
    "height = width * sum(height_ratios) / sum(width_ratios)\n",
    "fig = plt.figure(figsize=(width, height))\n",
    "gs = fig.add_gridspec(2, 3, width_ratios=width_ratios,\n",
    "                      height_ratios=height_ratios,\n",
    "                      left=0.1, right=0.9, bottom=0.1, top=0.9,\n",
    "                      wspace=0.05, hspace=0.05)\n",
    "\n",
    "# Define the ticks and their labels for both axes\n",
    "time_ticks = np.linspace(0, 4 * np.pi, 9)\n",
    "time_ticklabels = [r'$0$', r'$\\frac{\\pi}{2}$', r'$\\pi$',\n",
    "                   r'$\\frac{3\\pi}{2}$', r'$2\\pi$', r'$\\frac{5\\pi}{2}$',\n",
    "                   r'$3\\pi$', r'$\\frac{7\\pi}{2}$', r'$4\\pi$']\n",
    "value_ticks = [-1, 0, 1]\n",
    "reversed_value_ticks = value_ticks[::-1]\n",
    "\n",
    "# Plot the time series on the left with inverted axes\n",
    "ax_left = fig.add_subplot(gs[1, 0])\n",
    "ax_left.plot(x, time_points)\n",
    "ax_left.set_xticks(reversed_value_ticks)\n",
    "ax_left.set_xticklabels(reversed_value_ticks, rotation=90)\n",
    "ax_left.set_yticks(time_ticks)\n",
    "ax_left.set_yticklabels(time_ticklabels, rotation=90)\n",
    "ax_left.set_ylim((0, 4 * np.pi))\n",
    "ax_left.invert_xaxis()\n",
    "\n",
    "# Plot the time series on the top\n",
    "ax_top = fig.add_subplot(gs[0, 1])\n",
    "ax_top.plot(time_points, x)\n",
    "ax_top.set_xticks(time_ticks)\n",
    "ax_top.set_xticklabels(time_ticklabels)\n",
    "ax_top.set_yticks(value_ticks)\n",
    "ax_top.set_yticklabels(value_ticks)\n",
    "ax_top.xaxis.tick_top()\n",
    "ax_top.set_xlim((0, 4 * np.pi))\n",
    "ax_top.set_yticklabels(value_ticks)\n",
    "\n",
    "# Plot the Gramian angular fields on the bottom right\n",
    "ax_mtf = fig.add_subplot(gs[1, 1])\n",
    "im = ax_mtf.imshow(X_mtf[0], cmap='rainbow', origin='lower', vmin=0., vmax=1.,\n",
    "                   extent=[0, 4 * np.pi, 0, 4 * np.pi])\n",
    "ax_mtf.set_xticks([])\n",
    "ax_mtf.set_yticks([])\n",
    "ax_mtf.set_title('Markov Transition Field', y=-0.09)\n",
    "\n",
    "# Add colorbar\n",
    "ax_cbar = fig.add_subplot(gs[1, 2])\n",
    "fig.colorbar(im, cax=ax_cbar)\n",
    "\n",
    "plt.show()"
   ]
  }
 ],
 "metadata": {
  "kernelspec": {
   "display_name": "Python 3",
   "language": "python",
   "name": "python3"
  },
  "language_info": {
   "codemirror_mode": {
    "name": "ipython",
    "version": 3
   },
   "file_extension": ".py",
   "mimetype": "text/x-python",
   "name": "python",
   "nbconvert_exporter": "python",
   "pygments_lexer": "ipython3",
   "version": "3.8.6"
  }
 },
 "nbformat": 4,
 "nbformat_minor": 0
}
